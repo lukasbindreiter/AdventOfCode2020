{
 "cells": [
  {
   "cell_type": "code",
   "execution_count": 1,
   "metadata": {},
   "outputs": [],
   "source": [
    "import webbrowser\n",
    "from aocd.models import Puzzle\n",
    "puzzle = Puzzle(year=2020, day=7)\n",
    "webbrowser.open(puzzle.url);"
   ]
  },
  {
   "cell_type": "code",
   "execution_count": 2,
   "metadata": {},
   "outputs": [],
   "source": [
    "import numpy as np\n",
    "import matplotlib.pyplot as plt\n",
    "import pandas as pd\n",
    "import seaborn as sns\n",
    "sns.set_style(\"whitegrid\")"
   ]
  },
  {
   "cell_type": "markdown",
   "metadata": {},
   "source": [
    "## Part 1:"
   ]
  },
  {
   "cell_type": "code",
   "execution_count": 51,
   "metadata": {},
   "outputs": [],
   "source": [
    "from collections import defaultdict"
   ]
  },
  {
   "cell_type": "code",
   "execution_count": 95,
   "metadata": {},
   "outputs": [],
   "source": [
    "def parse_line(line, include_counts=False):\n",
    "    words = line.split(\" \")\n",
    "    bag = \" \".join(words[:2])\n",
    "    if words[4:7] == [\"no\", \"other\", \"bags.\"]:\n",
    "        return bag, set()\n",
    "    \n",
    "    child_bags = []\n",
    "    words = words[4:]\n",
    "    while words:\n",
    "        count = int(words[0])\n",
    "        child_bag = \" \".join(words[1:3])\n",
    "        if include_counts:\n",
    "            child_bags.append((child_bag, count))\n",
    "        else:\n",
    "            child_bags.append(child_bag)\n",
    "        words = words[4:]\n",
    "    \n",
    "    return bag, set(child_bags)"
   ]
  },
  {
   "cell_type": "code",
   "execution_count": 96,
   "metadata": {},
   "outputs": [],
   "source": [
    "lines = puzzle.input_data.split(\"\\n\")\n",
    "bags = dict([parse_line(l) for l in lines])"
   ]
  },
  {
   "cell_type": "code",
   "execution_count": 97,
   "metadata": {},
   "outputs": [],
   "source": [
    "inverted_bags = defaultdict(list)\n",
    "for bag, child_bags in bags.items():\n",
    "    for child_bag in child_bags:\n",
    "        inverted_bags[child_bag].append(bag)\n",
    "inverted_bags = {k: set(v) for k,v in inverted_bags.items()}"
   ]
  },
  {
   "cell_type": "code",
   "execution_count": 98,
   "metadata": {},
   "outputs": [],
   "source": [
    "def find_outermost_bags(bag, inverted_bags_lookup):\n",
    "    result = set()\n",
    "    if bag not in inverted_bags_lookup:\n",
    "        return result\n",
    "    \n",
    "    parents = inverted_bags_lookup[bag]\n",
    "    result = result.union(parents)\n",
    "    \n",
    "    for p in parents:\n",
    "        result = result.union(find_outermost_bags(p, inverted_bags_lookup))\n",
    "    \n",
    "    return result"
   ]
  },
  {
   "cell_type": "code",
   "execution_count": 99,
   "metadata": {},
   "outputs": [
    {
     "data": {
      "text/plain": [
       "148"
      ]
     },
     "execution_count": 99,
     "metadata": {},
     "output_type": "execute_result"
    }
   ],
   "source": [
    "outermost_bags = find_outermost_bags(\"shiny gold\", inverted_bags)\n",
    "answer = len(outermost_bags)\n",
    "answer"
   ]
  },
  {
   "cell_type": "code",
   "execution_count": 93,
   "metadata": {},
   "outputs": [
    {
     "name": "stdout",
     "output_type": "stream",
     "text": [
      "\u001b[32mThat's the right answer!  You are one gold star closer to saving your vacation. [Continue to Part Two]\u001b[0m\n"
     ]
    }
   ],
   "source": [
    "puzzle.answer_a = answer"
   ]
  },
  {
   "cell_type": "markdown",
   "metadata": {},
   "source": [
    "## Part 2:"
   ]
  },
  {
   "cell_type": "code",
   "execution_count": 117,
   "metadata": {},
   "outputs": [],
   "source": [
    "bags = dict([parse_line(l, include_counts=True) for l in lines])"
   ]
  },
  {
   "cell_type": "code",
   "execution_count": 114,
   "metadata": {},
   "outputs": [],
   "source": [
    "def lookup_total_bag_number(bag):\n",
    "    sub_bags = bags[bag]\n",
    "    result = sum(count for _, count in sub_bags)\n",
    "    for sub_bag, count in sub_bags:\n",
    "        result += count * lookup_total_bag_number(sub_bag)\n",
    "    return result"
   ]
  },
  {
   "cell_type": "code",
   "execution_count": 115,
   "metadata": {},
   "outputs": [
    {
     "data": {
      "text/plain": [
       "24867"
      ]
     },
     "execution_count": 115,
     "metadata": {},
     "output_type": "execute_result"
    }
   ],
   "source": [
    "answer = lookup_total_bag_number(\"shiny gold\")\n",
    "answer"
   ]
  },
  {
   "cell_type": "code",
   "execution_count": 116,
   "metadata": {},
   "outputs": [
    {
     "name": "stdout",
     "output_type": "stream",
     "text": [
      "\u001b[32mThat's the right answer!  You are one gold star closer to saving your vacation.You have completed Day 7! You can [Shareon\n",
      "  Twitter\n",
      "Mastodon] this victory or [Return to Your Advent Calendar].\u001b[0m\n"
     ]
    }
   ],
   "source": [
    "puzzle.answer_b = answer"
   ]
  }
 ],
 "metadata": {
  "kernelspec": {
   "display_name": "aoc",
   "language": "python",
   "name": "aoc"
  },
  "language_info": {
   "codemirror_mode": {
    "name": "ipython",
    "version": 3
   },
   "file_extension": ".py",
   "mimetype": "text/x-python",
   "name": "python",
   "nbconvert_exporter": "python",
   "pygments_lexer": "ipython3",
   "version": "3.8.0"
  }
 },
 "nbformat": 4,
 "nbformat_minor": 4
}
