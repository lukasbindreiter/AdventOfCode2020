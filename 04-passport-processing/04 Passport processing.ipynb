{
 "cells": [
  {
   "cell_type": "code",
   "execution_count": 1,
   "metadata": {},
   "outputs": [],
   "source": [
    "import webbrowser\n",
    "from aocd.models import Puzzle\n",
    "puzzle = Puzzle(year=2020, day=4)\n",
    "webbrowser.open(puzzle.url);"
   ]
  },
  {
   "cell_type": "code",
   "execution_count": 2,
   "metadata": {},
   "outputs": [],
   "source": [
    "import numpy as np\n",
    "import matplotlib.pyplot as plt\n",
    "import pandas as pd\n",
    "import seaborn as sns\n",
    "sns.set_style(\"whitegrid\")"
   ]
  },
  {
   "cell_type": "markdown",
   "metadata": {},
   "source": [
    "## Part 1:"
   ]
  },
  {
   "cell_type": "code",
   "execution_count": 12,
   "metadata": {},
   "outputs": [],
   "source": [
    "import re"
   ]
  },
  {
   "cell_type": "code",
   "execution_count": 90,
   "metadata": {},
   "outputs": [],
   "source": [
    "passports = puzzle.input_data.split(\"\\n\\n\")\n",
    "passports = [p.replace(\"\\n\", \" \") for p in passports]\n",
    "passports = [dict(re.findall(\"(\\w+):([#\\w\\d+]+)\", p)) for p in passports]"
   ]
  },
  {
   "cell_type": "code",
   "execution_count": 91,
   "metadata": {},
   "outputs": [],
   "source": [
    "expected_fields = [\"byr\", \"iyr\", \"eyr\", \"hgt\", \"hcl\", \"ecl\", \"pid\"]  # cid is optional"
   ]
  },
  {
   "cell_type": "code",
   "execution_count": 94,
   "metadata": {},
   "outputs": [],
   "source": [
    "valid = 0\n",
    "for passport in passports:\n",
    "    if all(e in passport for e in expected_fields):\n",
    "        valid += 1"
   ]
  },
  {
   "cell_type": "code",
   "execution_count": 96,
   "metadata": {},
   "outputs": [
    {
     "name": "stdout",
     "output_type": "stream",
     "text": [
      "\u001b[32mThat's the right answer!  You are one gold star closer to saving your vacation. [Continue to Part Two]\u001b[0m\n"
     ]
    }
   ],
   "source": [
    "puzzle.answer_a = valid"
   ]
  },
  {
   "cell_type": "markdown",
   "metadata": {},
   "source": [
    "## Part 2:"
   ]
  },
  {
   "cell_type": "code",
   "execution_count": 155,
   "metadata": {},
   "outputs": [],
   "source": [
    "class Validator:\n",
    "    expected_fields = [\"byr\", \"iyr\", \"eyr\", \"hgt\", \"hcl\", \"ecl\", \"pid\"]  # cid is optional\n",
    "    \n",
    "    @staticmethod\n",
    "    def validate_passport(passport):\n",
    "        all_valid = True\n",
    "        for field in Validator.expected_fields:\n",
    "            if field not in passport:\n",
    "                return False\n",
    "            all_valid = all_valid and Validator.validate_field(field, passport[field])\n",
    "        return all_valid\n",
    "    \n",
    "    @staticmethod\n",
    "    def validate_field(field, data):\n",
    "        try:\n",
    "            return getattr(Validator, \"validate_\" + field)(data)\n",
    "        except (AttributeError, ValueError):\n",
    "            return False\n",
    "    \n",
    "    @staticmethod\n",
    "    def validate_byr(data):\n",
    "        return 1920 <= int(data) <= 2002\n",
    "    \n",
    "    @staticmethod\n",
    "    def validate_iyr(data):\n",
    "        return 2010 <= int(data) <= 2020\n",
    "    \n",
    "    @staticmethod\n",
    "    def validate_eyr(data):\n",
    "        return 2020 <= int(data) <= 2030\n",
    "    \n",
    "    @staticmethod\n",
    "    def validate_hgt(data):\n",
    "        height, unit = int(data[:-2]), data[-2:]\n",
    "        if unit == \"cm\":\n",
    "            return 150 <= height <= 193\n",
    "        elif unit == \"in\":\n",
    "            return 59 <= height <= 76\n",
    "        return False\n",
    "    \n",
    "    @staticmethod\n",
    "    def validate_eyr(data):\n",
    "        return 2020 <= int(data) <= 2030\n",
    "    \n",
    "    @staticmethod\n",
    "    def validate_hcl(data):\n",
    "        return bool(re.match(\"^#[a-f0-9]{6}$\", data))\n",
    "    \n",
    "    valid_eye_colors = set((\"amb\", \"blu\", \"brn\", \"gry\", \"grn\", \"hzl\", \"oth\"))\n",
    "    @staticmethod\n",
    "    def validate_ecl(data):\n",
    "        return data in set(Validator.valid_eye_colors)\n",
    "    \n",
    "    @staticmethod\n",
    "    def validate_pid(data):\n",
    "        return bool(re.match(\"^\\d{9}$\", data))\n",
    "    \n",
    "    @staticmethod\n",
    "    def validate_cid(data):\n",
    "        return True"
   ]
  },
  {
   "cell_type": "code",
   "execution_count": 156,
   "metadata": {},
   "outputs": [
    {
     "data": {
      "text/plain": [
       "109"
      ]
     },
     "execution_count": 156,
     "metadata": {},
     "output_type": "execute_result"
    }
   ],
   "source": [
    "valid_passports = [p for p in passports if Validator.validate_passport(p)]\n",
    "valid = len(valid_passports)\n",
    "valid"
   ]
  },
  {
   "cell_type": "code",
   "execution_count": 157,
   "metadata": {},
   "outputs": [
    {
     "name": "stdout",
     "output_type": "stream",
     "text": [
      "\u001b[32mThat's the right answer!  You are one gold star closer to saving your vacation.You have completed Day 4! You can [Shareon\n",
      "  Twitter\n",
      "Mastodon] this victory or [Return to Your Advent Calendar].\u001b[0m\n"
     ]
    }
   ],
   "source": [
    "puzzle.answer_b = valid"
   ]
  }
 ],
 "metadata": {
  "kernelspec": {
   "display_name": "aoc",
   "language": "python",
   "name": "aoc"
  },
  "language_info": {
   "codemirror_mode": {
    "name": "ipython",
    "version": 3
   },
   "file_extension": ".py",
   "mimetype": "text/x-python",
   "name": "python",
   "nbconvert_exporter": "python",
   "pygments_lexer": "ipython3",
   "version": "3.8.0"
  }
 },
 "nbformat": 4,
 "nbformat_minor": 4
}
