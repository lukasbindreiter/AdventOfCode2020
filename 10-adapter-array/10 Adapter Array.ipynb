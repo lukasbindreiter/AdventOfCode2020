{
 "cells": [
  {
   "cell_type": "code",
   "execution_count": 1,
   "metadata": {},
   "outputs": [],
   "source": [
    "import webbrowser\n",
    "from aocd.models import Puzzle\n",
    "puzzle = Puzzle(year=2020, day=10)\n",
    "webbrowser.open(puzzle.url);"
   ]
  },
  {
   "cell_type": "code",
   "execution_count": 2,
   "metadata": {},
   "outputs": [],
   "source": [
    "import numpy as np\n",
    "import matplotlib.pyplot as plt\n",
    "import pandas as pd\n",
    "import seaborn as sns\n",
    "sns.set_style(\"whitegrid\")"
   ]
  },
  {
   "cell_type": "markdown",
   "metadata": {},
   "source": [
    "## Part 1:"
   ]
  },
  {
   "cell_type": "code",
   "execution_count": 164,
   "metadata": {},
   "outputs": [],
   "source": [
    "input_data = puzzle.input_data\n",
    "jolts = np.asarray(list(map(int, input_data.split(\"\\n\"))))\n",
    "jolts.sort()\n",
    "# add the outlet and the device:\n",
    "jolts = np.concatenate(([0], jolts, [jolts.max() + 3]))"
   ]
  },
  {
   "cell_type": "code",
   "execution_count": 165,
   "metadata": {},
   "outputs": [],
   "source": [
    "differences = np.diff(jolts)"
   ]
  },
  {
   "cell_type": "code",
   "execution_count": 166,
   "metadata": {},
   "outputs": [
    {
     "data": {
      "text/plain": [
       "2046"
      ]
     },
     "execution_count": 166,
     "metadata": {},
     "output_type": "execute_result"
    }
   ],
   "source": [
    "answer_a = (differences==1).sum() * (differences==3).sum()\n",
    "answer_a"
   ]
  },
  {
   "cell_type": "code",
   "execution_count": 56,
   "metadata": {},
   "outputs": [
    {
     "name": "stdout",
     "output_type": "stream",
     "text": [
      "\u001b[32mThat's the right answer!  You are one gold star closer to saving your vacation. [Continue to Part Two]\u001b[0m\n"
     ]
    }
   ],
   "source": [
    "puzzle.answer_a = answer_a"
   ]
  },
  {
   "cell_type": "markdown",
   "metadata": {},
   "source": [
    "## Part 2:"
   ]
  },
  {
   "cell_type": "code",
   "execution_count": 167,
   "metadata": {},
   "outputs": [
    {
     "data": {
      "text/plain": [
       "array([  0,   1,   2,   5,   6,   7,   8,   9,  12,  13,  14,  15,  18,\n",
       "        21,  24,  25,  26,  27,  30,  31,  32,  35,  38,  39,  40,  41,\n",
       "        44,  47,  50,  51,  52,  53,  54,  57,  58,  59,  60,  61,  64,\n",
       "        65,  66,  67,  70,  73,  76,  77,  78,  79,  80,  83,  86,  89,\n",
       "        90,  91,  92,  95,  98, 101, 104, 105, 106, 107, 108, 111, 112,\n",
       "       113, 114, 115, 118, 119, 120, 121, 122, 125, 126, 129, 132, 133,\n",
       "       136, 137, 138, 139, 140, 143, 144, 147, 148, 149, 150, 151, 154,\n",
       "       155, 156, 157, 158, 161])"
      ]
     },
     "execution_count": 167,
     "metadata": {},
     "output_type": "execute_result"
    }
   ],
   "source": [
    "jolts"
   ]
  },
  {
   "cell_type": "code",
   "execution_count": 168,
   "metadata": {},
   "outputs": [
    {
     "data": {
      "text/plain": [
       "array([1, 1, 3, 1, 1, 1, 1, 3, 1, 1, 1, 3, 3, 3, 1, 1, 1, 3, 1, 1, 3, 3,\n",
       "       1, 1, 1, 3, 3, 3, 1, 1, 1, 1, 3, 1, 1, 1, 1, 3, 1, 1, 1, 3, 3, 3,\n",
       "       1, 1, 1, 1, 3, 3, 3, 1, 1, 1, 3, 3, 3, 3, 1, 1, 1, 1, 3, 1, 1, 1,\n",
       "       1, 3, 1, 1, 1, 1, 3, 1, 3, 3, 1, 3, 1, 1, 1, 1, 3, 1, 3, 1, 1, 1,\n",
       "       1, 3, 1, 1, 1, 1, 3])"
      ]
     },
     "execution_count": 168,
     "metadata": {},
     "output_type": "execute_result"
    }
   ],
   "source": [
    "differences"
   ]
  },
  {
   "cell_type": "code",
   "execution_count": 169,
   "metadata": {},
   "outputs": [],
   "source": [
    "def find_sequences_of_ones(values):\n",
    "    counter = 0\n",
    "    for v in values:\n",
    "        if v == 1:\n",
    "            counter += 1\n",
    "        else:\n",
    "            if counter > 0:\n",
    "                yield counter\n",
    "            counter = 0\n",
    "    if counter > 0:\n",
    "        yield counter"
   ]
  },
  {
   "cell_type": "code",
   "execution_count": null,
   "metadata": {},
   "outputs": [],
   "source": []
  },
  {
   "cell_type": "markdown",
   "metadata": {},
   "source": [
    "## Some observations:\n",
    "- Whereever the difference is 3, we definetly need to keep that adapter as well as the one before it\n",
    "- Therefore we are basically only interested in sequences of ones, we were can choose to skip some of those adapter, but how many?"
   ]
  },
  {
   "cell_type": "code",
   "execution_count": 170,
   "metadata": {},
   "outputs": [
    {
     "data": {
      "text/plain": [
       "array([  0,   1,   2,   5,   6,   7,   8,   9,  12,  13,  14,  15,  18,\n",
       "        21,  24,  25,  26,  27,  30,  31,  32,  35,  38,  39,  40,  41,\n",
       "        44,  47,  50,  51,  52,  53,  54,  57,  58,  59,  60,  61,  64,\n",
       "        65,  66,  67,  70,  73,  76,  77,  78,  79,  80,  83,  86,  89,\n",
       "        90,  91,  92,  95,  98, 101, 104, 105, 106, 107, 108, 111, 112,\n",
       "       113, 114, 115, 118, 119, 120, 121, 122, 125, 126, 129, 132, 133,\n",
       "       136, 137, 138, 139, 140, 143, 144, 147, 148, 149, 150, 151, 154,\n",
       "       155, 156, 157, 158, 161])"
      ]
     },
     "execution_count": 170,
     "metadata": {},
     "output_type": "execute_result"
    }
   ],
   "source": [
    "jolts"
   ]
  },
  {
   "cell_type": "code",
   "execution_count": 171,
   "metadata": {},
   "outputs": [
    {
     "data": {
      "text/plain": [
       "array([1, 1, 3, 1, 1, 1, 1, 3, 1, 1, 1, 3, 3, 3, 1, 1, 1, 3, 1, 1, 3, 3,\n",
       "       1, 1, 1, 3, 3, 3, 1, 1, 1, 1, 3, 1, 1, 1, 1, 3, 1, 1, 1, 3, 3, 3,\n",
       "       1, 1, 1, 1, 3, 3, 3, 1, 1, 1, 3, 3, 3, 3, 1, 1, 1, 1, 3, 1, 1, 1,\n",
       "       1, 3, 1, 1, 1, 1, 3, 1, 3, 3, 1, 3, 1, 1, 1, 1, 3, 1, 3, 1, 1, 1,\n",
       "       1, 3, 1, 1, 1, 1, 3])"
      ]
     },
     "execution_count": 171,
     "metadata": {},
     "output_type": "execute_result"
    }
   ],
   "source": [
    "differences"
   ]
  },
  {
   "cell_type": "markdown",
   "metadata": {},
   "source": [
    "### Let's try around different options"
   ]
  },
  {
   "cell_type": "code",
   "execution_count": null,
   "metadata": {},
   "outputs": [],
   "source": [
    "# 1 consecutive ones -> 1 options:\n",
    "5, 6"
   ]
  },
  {
   "cell_type": "code",
   "execution_count": null,
   "metadata": {},
   "outputs": [],
   "source": [
    "# 2 consecutive ones -> 2 options:\n",
    "4, 5, 6\n",
    "4, 6"
   ]
  },
  {
   "cell_type": "code",
   "execution_count": null,
   "metadata": {},
   "outputs": [],
   "source": [
    "# 3 consecutive ones -> 3 options\n",
    "4, 5, 6, 7\n",
    "4, 6, 7\n",
    "4, 5, 7\n",
    "4, 7"
   ]
  },
  {
   "cell_type": "code",
   "execution_count": null,
   "metadata": {},
   "outputs": [],
   "source": [
    "# 4 consecutive ones -> 7 options\n",
    "4, 5, 6, 7, 8\n",
    "4, 6, 7, 8\n",
    "4, 5, 7, 8\n",
    "4, 5, 6, 8\n",
    "4, 5, 8\n",
    "4, 6, 8\n",
    "4, 7, 8"
   ]
  },
  {
   "cell_type": "code",
   "execution_count": null,
   "metadata": {},
   "outputs": [],
   "source": [
    "# 5 consecutive ones -> 13 options\n",
    "4, .... 9\n",
    "4, 5, 6, 7, 8, 9\n",
    "4, 6, 7, 8, 9  # 5\n",
    "4, 5, 7, 8, 9  # 6\n",
    "4, 5, 6, 8, 9  # 7\n",
    "4, 5, 6, 7, 9  # 8\n",
    "4, 7, 8, 9  # 5, 6\n",
    "4, 6, 8, 9  # 5, 7\n",
    "4, 6, 7, 9  # 5, 8\n",
    "4, 5, 8, 9  # 6, 7\n",
    "4, 5, 7, 9  # 6, 8\n",
    "4, 5, 6, 9  # 7, 8\n",
    "\n",
    "4, 6, 9  # 5, 7, 8\n",
    "4, 7, 9  # 5, 6, 8\n",
    "\n",
    "# don't work:\n",
    "4, 5, 9\n",
    "4, 8, 9"
   ]
  },
  {
   "cell_type": "markdown",
   "metadata": {},
   "source": [
    "## So the combinations follow this series:\n",
    "- 1, 2, 4, 7, 13\n",
    "- In the On-Line Encyclopedia of Integer sequences: https://oeis.org/search?q=1%2C2%2C4%2C7%2C13&language=english&go=Search -> Tribonacci numbers"
   ]
  },
  {
   "cell_type": "code",
   "execution_count": 179,
   "metadata": {},
   "outputs": [],
   "source": [
    "def tribonacci(n):\n",
    "    if n < 2:\n",
    "        return 0\n",
    "    elif n == 2:\n",
    "        return 1\n",
    "    return tribonacci(n-1) + tribonacci(n-2) + tribonacci(n-3)"
   ]
  },
  {
   "cell_type": "code",
   "execution_count": 192,
   "metadata": {},
   "outputs": [],
   "source": [
    "def combinations(consecutive_ones):\n",
    "    return tribonacci(consecutive_ones + 2)"
   ]
  },
  {
   "cell_type": "code",
   "execution_count": 194,
   "metadata": {},
   "outputs": [
    {
     "data": {
      "text/plain": [
       "7"
      ]
     },
     "execution_count": 194,
     "metadata": {},
     "output_type": "execute_result"
    }
   ],
   "source": [
    "combinations(4)"
   ]
  },
  {
   "cell_type": "code",
   "execution_count": 195,
   "metadata": {},
   "outputs": [
    {
     "data": {
      "text/plain": [
       "13"
      ]
     },
     "execution_count": 195,
     "metadata": {},
     "output_type": "execute_result"
    }
   ],
   "source": [
    "combinations(5)"
   ]
  },
  {
   "cell_type": "code",
   "execution_count": 196,
   "metadata": {},
   "outputs": [
    {
     "data": {
      "text/plain": [
       "1157018619904"
      ]
     },
     "execution_count": 196,
     "metadata": {},
     "output_type": "execute_result"
    }
   ],
   "source": [
    "answer = np.prod([combinations(v) for v in find_sequences_of_ones(differences)])\n",
    "answer"
   ]
  },
  {
   "cell_type": "code",
   "execution_count": 178,
   "metadata": {},
   "outputs": [
    {
     "name": "stdout",
     "output_type": "stream",
     "text": [
      "\u001b[32mThat's the right answer!  You are one gold star closer to saving your vacation.You have completed Day 10! You can [Shareon\n",
      "  Twitter\n",
      "Mastodon] this victory or [Return to Your Advent Calendar].\u001b[0m\n"
     ]
    }
   ],
   "source": [
    "puzzle.answer_b = answer"
   ]
  }
 ],
 "metadata": {
  "kernelspec": {
   "display_name": "aoc",
   "language": "python",
   "name": "aoc"
  },
  "language_info": {
   "codemirror_mode": {
    "name": "ipython",
    "version": 3
   },
   "file_extension": ".py",
   "mimetype": "text/x-python",
   "name": "python",
   "nbconvert_exporter": "python",
   "pygments_lexer": "ipython3",
   "version": "3.8.0"
  }
 },
 "nbformat": 4,
 "nbformat_minor": 4
}
