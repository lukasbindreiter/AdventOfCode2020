{
 "cells": [
  {
   "cell_type": "code",
   "execution_count": 1,
   "metadata": {},
   "outputs": [],
   "source": [
    "import webbrowser\n",
    "from aocd.models import Puzzle\n",
    "puzzle = Puzzle(year=2020, day=8)\n",
    "webbrowser.open(puzzle.url);"
   ]
  },
  {
   "cell_type": "code",
   "execution_count": 2,
   "metadata": {},
   "outputs": [],
   "source": [
    "import numpy as np\n",
    "import matplotlib.pyplot as plt\n",
    "import pandas as pd\n",
    "import seaborn as sns\n",
    "sns.set_style(\"whitegrid\")"
   ]
  },
  {
   "cell_type": "markdown",
   "metadata": {},
   "source": [
    "## Part 1:"
   ]
  },
  {
   "cell_type": "code",
   "execution_count": 73,
   "metadata": {},
   "outputs": [],
   "source": [
    "input_data = puzzle.input_data"
   ]
  },
  {
   "cell_type": "code",
   "execution_count": 74,
   "metadata": {},
   "outputs": [],
   "source": [
    "instructions = [i.split(\" \") for i in input_data.split(\"\\n\")]\n",
    "instructions = [(i, int(v)) for i, v in instructions]"
   ]
  },
  {
   "cell_type": "code",
   "execution_count": 72,
   "metadata": {},
   "outputs": [],
   "source": [
    "input_data = \"\"\"\n",
    "nop +0\n",
    "acc +1\n",
    "jmp +4\n",
    "acc +3\n",
    "jmp -3\n",
    "acc -99\n",
    "acc +1\n",
    "jmp -4\n",
    "acc +6\n",
    "\"\"\".strip()"
   ]
  },
  {
   "cell_type": "code",
   "execution_count": 75,
   "metadata": {},
   "outputs": [],
   "source": [
    "class GameConsole:\n",
    "    def __init__(self, instructions):\n",
    "        self.instructions = instructions\n",
    "        self.pc = 0\n",
    "        self.acc = 0\n",
    "        self.instruction_memory = np.zeros(len(instructions), np.bool)\n",
    "        self.interrupt = False\n",
    "    \n",
    "    @property\n",
    "    def has_exited(self):\n",
    "        return self.pc >= len(self.instructions) or self.interrupt\n",
    "    \n",
    "    def run(self):\n",
    "        while not self.has_exited:\n",
    "            self.next_instruction()\n",
    "    \n",
    "    def next_instruction(self):\n",
    "        if self.instruction_memory[self.pc]:\n",
    "            print(\"Executing instruction a second time\")\n",
    "            self.interrupt = True\n",
    "            return\n",
    "        instruction, value = self.instructions[self.pc]\n",
    "        self.instruction_memory[self.pc] = True\n",
    "        #print(instruction, value, self.pc)\n",
    "        jump = 1  # by default go the the next instruction afterwards\n",
    "        if instruction == \"acc\":\n",
    "            self.acc += value\n",
    "        elif instruction == \"jmp\":\n",
    "            jump = value\n",
    "        else:\n",
    "            assert instruction == \"nop\"\n",
    "        self.pc += jump"
   ]
  },
  {
   "cell_type": "code",
   "execution_count": 76,
   "metadata": {},
   "outputs": [
    {
     "name": "stdout",
     "output_type": "stream",
     "text": [
      "Executing instruction a second time\n"
     ]
    }
   ],
   "source": [
    "gc = GameConsole(instructions)\n",
    "gc.run()"
   ]
  },
  {
   "cell_type": "code",
   "execution_count": 77,
   "metadata": {},
   "outputs": [
    {
     "data": {
      "text/plain": [
       "1501"
      ]
     },
     "execution_count": 77,
     "metadata": {},
     "output_type": "execute_result"
    }
   ],
   "source": [
    "answer = gc.acc\n",
    "answer"
   ]
  },
  {
   "cell_type": "code",
   "execution_count": 78,
   "metadata": {},
   "outputs": [],
   "source": [
    "puzzle.answer_a = answer"
   ]
  },
  {
   "cell_type": "markdown",
   "metadata": {},
   "source": [
    "## Part 2:"
   ]
  },
  {
   "cell_type": "code",
   "execution_count": 79,
   "metadata": {},
   "outputs": [],
   "source": [
    "def iter_modified_instructions(instructions):\n",
    "    for i in range(len(instructions)):\n",
    "        ins, val = instructions[i]\n",
    "        if ins == \"jmp\":\n",
    "            instructions[i] = (\"nop\", val)\n",
    "            yield instructions.copy()\n",
    "            instructions[i] = (\"jmp\", val)\n",
    "        elif ins == \"nop\":\n",
    "            instructions[i] = (\"jmp\", val)\n",
    "            yield instructions.copy()\n",
    "            instructions[i] = (\"nop\", val)"
   ]
  },
  {
   "cell_type": "code",
   "execution_count": 80,
   "metadata": {},
   "outputs": [
    {
     "name": "stdout",
     "output_type": "stream",
     "text": [
      "Executing instruction a second time\n",
      "Executing instruction a second time\n",
      "Executing instruction a second time\n",
      "Executing instruction a second time\n",
      "Executing instruction a second time\n",
      "Executing instruction a second time\n",
      "Executing instruction a second time\n",
      "Executing instruction a second time\n",
      "Executing instruction a second time\n",
      "Executing instruction a second time\n",
      "Executing instruction a second time\n",
      "Executing instruction a second time\n",
      "Executing instruction a second time\n",
      "Executing instruction a second time\n",
      "Executing instruction a second time\n",
      "Executing instruction a second time\n",
      "Executing instruction a second time\n",
      "Executing instruction a second time\n",
      "Executing instruction a second time\n",
      "Executing instruction a second time\n",
      "Executing instruction a second time\n",
      "Executing instruction a second time\n",
      "Executing instruction a second time\n",
      "Executing instruction a second time\n",
      "Executing instruction a second time\n",
      "Executing instruction a second time\n",
      "Executing instruction a second time\n",
      "Executing instruction a second time\n",
      "Executing instruction a second time\n",
      "Executing instruction a second time\n",
      "Executing instruction a second time\n",
      "Executing instruction a second time\n",
      "Executing instruction a second time\n",
      "Executing instruction a second time\n",
      "Executing instruction a second time\n",
      "Executing instruction a second time\n",
      "Executing instruction a second time\n",
      "Executing instruction a second time\n",
      "Executing instruction a second time\n",
      "Executing instruction a second time\n",
      "Executing instruction a second time\n",
      "Executing instruction a second time\n",
      "Executing instruction a second time\n",
      "Executing instruction a second time\n",
      "Executing instruction a second time\n",
      "Executing instruction a second time\n",
      "Executing instruction a second time\n",
      "Executing instruction a second time\n",
      "Executing instruction a second time\n",
      "Executing instruction a second time\n",
      "Executing instruction a second time\n",
      "Executing instruction a second time\n",
      "Executing instruction a second time\n",
      "Executing instruction a second time\n",
      "Executing instruction a second time\n",
      "Executing instruction a second time\n",
      "Executing instruction a second time\n",
      "Executing instruction a second time\n",
      "Executing instruction a second time\n",
      "Executing instruction a second time\n",
      "Executing instruction a second time\n",
      "Executing instruction a second time\n",
      "Executing instruction a second time\n",
      "Executing instruction a second time\n",
      "Executing instruction a second time\n",
      "Executing instruction a second time\n",
      "Executing instruction a second time\n",
      "Executing instruction a second time\n",
      "Executing instruction a second time\n",
      "Executing instruction a second time\n",
      "Executing instruction a second time\n",
      "Executing instruction a second time\n",
      "Executing instruction a second time\n",
      "Executing instruction a second time\n",
      "Executing instruction a second time\n",
      "Executing instruction a second time\n",
      "Executing instruction a second time\n",
      "Executing instruction a second time\n",
      "Executing instruction a second time\n",
      "Executing instruction a second time\n",
      "Executing instruction a second time\n",
      "Executing instruction a second time\n",
      "Executing instruction a second time\n",
      "Executing instruction a second time\n",
      "Executing instruction a second time\n",
      "Executing instruction a second time\n",
      "Executing instruction a second time\n",
      "Executing instruction a second time\n",
      "Executing instruction a second time\n",
      "Executing instruction a second time\n",
      "Executing instruction a second time\n",
      "Executing instruction a second time\n",
      "Executing instruction a second time\n",
      "Executing instruction a second time\n",
      "Executing instruction a second time\n",
      "Executing instruction a second time\n",
      "Executing instruction a second time\n",
      "Executing instruction a second time\n",
      "Executing instruction a second time\n",
      "Found it\n"
     ]
    }
   ],
   "source": [
    "for modified_instructions in iter_modified_instructions(instructions):\n",
    "    gc = GameConsole(modified_instructions)\n",
    "    gc.run()\n",
    "    if not gc.interrupt:  # it terminated on its own\n",
    "        print(\"Found it\")\n",
    "        break"
   ]
  },
  {
   "cell_type": "code",
   "execution_count": 82,
   "metadata": {},
   "outputs": [
    {
     "data": {
      "text/plain": [
       "509"
      ]
     },
     "execution_count": 82,
     "metadata": {},
     "output_type": "execute_result"
    }
   ],
   "source": [
    "answer = gc.acc\n",
    "answer"
   ]
  },
  {
   "cell_type": "code",
   "execution_count": 83,
   "metadata": {},
   "outputs": [
    {
     "name": "stdout",
     "output_type": "stream",
     "text": [
      "\u001b[32mThat's the right answer!  You are one gold star closer to saving your vacation.You have completed Day 8! You can [Shareon\n",
      "  Twitter\n",
      "Mastodon] this victory or [Return to Your Advent Calendar].\u001b[0m\n"
     ]
    }
   ],
   "source": [
    "puzzle.answer_b = answer"
   ]
  }
 ],
 "metadata": {
  "kernelspec": {
   "display_name": "aoc",
   "language": "python",
   "name": "aoc"
  },
  "language_info": {
   "codemirror_mode": {
    "name": "ipython",
    "version": 3
   },
   "file_extension": ".py",
   "mimetype": "text/x-python",
   "name": "python",
   "nbconvert_exporter": "python",
   "pygments_lexer": "ipython3",
   "version": "3.8.0"
  }
 },
 "nbformat": 4,
 "nbformat_minor": 4
}
